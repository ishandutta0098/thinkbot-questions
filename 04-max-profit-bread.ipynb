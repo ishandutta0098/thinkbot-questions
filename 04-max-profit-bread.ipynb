{
  "nbformat": 4,
  "nbformat_minor": 0,
  "metadata": {
    "colab": {
      "name": "max-profit-bread.ipynb",
      "provenance": [],
      "collapsed_sections": []
    },
    "kernelspec": {
      "name": "python3",
      "display_name": "Python 3"
    }
  },
  "cells": [
    {
      "cell_type": "code",
      "metadata": {
        "colab": {
          "base_uri": "https://localhost:8080/"
        },
        "id": "cfX4kChLGjJt",
        "outputId": "251c5951-0487-4071-b239-b4201330596a"
      },
      "source": [
        "class Bread:\r\n",
        "    def __init__(self, price_list: list, verbose: bool = False) -> None:\r\n",
        "        price_list.sort()\r\n",
        "        self.price_list = price_list\r\n",
        "        self.price_combinations = []\r\n",
        "        self.v = verbose\r\n",
        "\r\n",
        "    # Calculates combinations for the price list using recursion\r\n",
        "    def findCombinationsUtil(self, arr, index, num, reducedNum):\r\n",
        "        temp_arr = []\r\n",
        "\r\n",
        "        if reducedNum < 0:\r\n",
        "            return\r\n",
        "\r\n",
        "        if reducedNum == 0:\r\n",
        "            for i in range(index):\r\n",
        "                temp_arr.append(arr[i])\r\n",
        "            # Appending combinations to an instance list\r\n",
        "            self.price_combinations.append(temp_arr)\r\n",
        "            temp_arr = []\r\n",
        "            return\r\n",
        "\r\n",
        "        prev = 1 if (index == 0) else arr[index - 1]\r\n",
        "\r\n",
        "        for k in range(prev, num + 1):\r\n",
        "            arr[index] = k\r\n",
        "            self.findCombinationsUtil(arr, index + 1, num, reducedNum - k)\r\n",
        "\r\n",
        "    # Get length of prices list\r\n",
        "    def get_prices_len(self) -> int:\r\n",
        "        return len(self.price_list)\r\n",
        "\r\n",
        "    # Calculate total number of combinations possible for selling\r\n",
        "    def calc_selling_combinations(self) -> None:\r\n",
        "        l = self.get_prices_len()\r\n",
        "        num_prices_arr = [0] * self.get_prices_len()\r\n",
        "\r\n",
        "        self.findCombinationsUtil(num_prices_arr, 0, l, l)\r\n",
        "\r\n",
        "        if self.v:\r\n",
        "            print(\r\n",
        "                f\"\\nTotal possible combinations of selling the bread -\\n{self.price_combinations}\"\r\n",
        "            )\r\n",
        "\r\n",
        "    # Get all the permutations of the total prices according to the selling combinations\r\n",
        "    def get_selling_permutations(self) -> list:\r\n",
        "        # Populating price combinations list\r\n",
        "        self.calc_selling_combinations()\r\n",
        "\r\n",
        "        price_permutation_list = []\r\n",
        "\r\n",
        "        for combination_list in self.price_combinations:\r\n",
        "            val = 0\r\n",
        "            for combination_value in combination_list:\r\n",
        "                val = val + self.price_list[combination_value - 1]\r\n",
        "            price_permutation_list.append(val)\r\n",
        "\r\n",
        "        if self.v:\r\n",
        "            print(\r\n",
        "                f\"\\nEvery possible sell price according to the combinations -\\n{price_permutation_list}\"\r\n",
        "            )\r\n",
        "\r\n",
        "        return price_permutation_list\r\n",
        "\r\n",
        "    # Getting max profit out of all the price permutations\r\n",
        "    def get_max_profit(self) -> int:\r\n",
        "        return max(self.get_selling_permutations())\r\n",
        "\r\n",
        "\r\n",
        "bread = Bread([5, 12, 40, 50, 60], verbose=True)\r\n",
        "\r\n",
        "print(bread.get_max_profit())"
      ],
      "execution_count": 1,
      "outputs": [
        {
          "output_type": "stream",
          "text": [
            "\n",
            "Total possible combinations of selling the bread -\n",
            "[[1, 1, 1, 1, 1], [1, 1, 1, 2], [1, 1, 3], [1, 2, 2], [1, 4], [2, 3], [5]]\n",
            "\n",
            "Every possible sell price according to the combinations -\n",
            "[25, 27, 50, 29, 55, 52, 60]\n",
            "60\n"
          ],
          "name": "stdout"
        }
      ]
    }
  ]
}